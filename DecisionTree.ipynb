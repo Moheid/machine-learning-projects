{
 "cells": [
  {
   "cell_type": "markdown",
   "id": "f7362853-b0d8-4453-a1af-96d08b5b1a8d",
   "metadata": {},
   "source": [
    "# Machine Learning Project for Decision Tree"
   ]
  },
  {
   "cell_type": "markdown",
   "id": "a17c9ffd-18ec-48af-91a4-4fb0d165cb5e",
   "metadata": {},
   "source": [
    "We are exploring the social media plafform usage in accorance with age against the preferal platform.The Data in this project is not real it just a clean data intended to explore the conception inf Decison tree machine learning. "
   ]
  },
  {
   "cell_type": "markdown",
   "id": "8903adb5-0d2d-442e-b751-6ec6d75e0b51",
   "metadata": {},
   "source": [
    "## Machine learning steps\n",
    "### Step 1: Load the data"
   ]
  },
  {
   "cell_type": "code",
   "execution_count": 12,
   "id": "5976b0d1-0570-4769-9eef-75b7c0128b0b",
   "metadata": {},
   "outputs": [
    {
     "data": {
      "text/html": [
       "<div>\n",
       "<style scoped>\n",
       "    .dataframe tbody tr th:only-of-type {\n",
       "        vertical-align: middle;\n",
       "    }\n",
       "\n",
       "    .dataframe tbody tr th {\n",
       "        vertical-align: top;\n",
       "    }\n",
       "\n",
       "    .dataframe thead th {\n",
       "        text-align: right;\n",
       "    }\n",
       "</style>\n",
       "<table border=\"1\" class=\"dataframe\">\n",
       "  <thead>\n",
       "    <tr style=\"text-align: right;\">\n",
       "      <th></th>\n",
       "      <th>age</th>\n",
       "      <th>gender</th>\n",
       "      <th>social</th>\n",
       "    </tr>\n",
       "  </thead>\n",
       "  <tbody>\n",
       "    <tr>\n",
       "      <th>0</th>\n",
       "      <td>20</td>\n",
       "      <td>1</td>\n",
       "      <td>tiktok</td>\n",
       "    </tr>\n",
       "    <tr>\n",
       "      <th>1</th>\n",
       "      <td>23</td>\n",
       "      <td>1</td>\n",
       "      <td>tiktok</td>\n",
       "    </tr>\n",
       "    <tr>\n",
       "      <th>2</th>\n",
       "      <td>25</td>\n",
       "      <td>1</td>\n",
       "      <td>tiktok</td>\n",
       "    </tr>\n",
       "    <tr>\n",
       "      <th>3</th>\n",
       "      <td>26</td>\n",
       "      <td>1</td>\n",
       "      <td>facebook</td>\n",
       "    </tr>\n",
       "    <tr>\n",
       "      <th>4</th>\n",
       "      <td>29</td>\n",
       "      <td>1</td>\n",
       "      <td>facebook</td>\n",
       "    </tr>\n",
       "  </tbody>\n",
       "</table>\n",
       "</div>"
      ],
      "text/plain": [
       "   age  gender    social\n",
       "0   20       1    tiktok\n",
       "1   23       1    tiktok\n",
       "2   25       1    tiktok\n",
       "3   26       1  facebook\n",
       "4   29       1  facebook"
      ]
     },
     "execution_count": 12,
     "metadata": {},
     "output_type": "execute_result"
    }
   ],
   "source": [
    "import pandas as pd\n",
    "social = pd.read_csv(\"socialUsage.csv\", header=0, sep=\";\")\n",
    "social.head(5)"
   ]
  },
  {
   "cell_type": "markdown",
   "id": "4891ca04-500e-425a-b11e-0702dec96f43",
   "metadata": {},
   "source": [
    "### Step 2: Create Input Variable "
   ]
  },
  {
   "cell_type": "code",
   "execution_count": 48,
   "id": "79c653a6-a2af-4069-a51d-31b685ecf039",
   "metadata": {},
   "outputs": [
    {
     "data": {
      "text/html": [
       "<div>\n",
       "<style scoped>\n",
       "    .dataframe tbody tr th:only-of-type {\n",
       "        vertical-align: middle;\n",
       "    }\n",
       "\n",
       "    .dataframe tbody tr th {\n",
       "        vertical-align: top;\n",
       "    }\n",
       "\n",
       "    .dataframe thead th {\n",
       "        text-align: right;\n",
       "    }\n",
       "</style>\n",
       "<table border=\"1\" class=\"dataframe\">\n",
       "  <thead>\n",
       "    <tr style=\"text-align: right;\">\n",
       "      <th></th>\n",
       "      <th>age</th>\n",
       "      <th>gender</th>\n",
       "    </tr>\n",
       "  </thead>\n",
       "  <tbody>\n",
       "    <tr>\n",
       "      <th>0</th>\n",
       "      <td>20</td>\n",
       "      <td>1</td>\n",
       "    </tr>\n",
       "    <tr>\n",
       "      <th>1</th>\n",
       "      <td>23</td>\n",
       "      <td>1</td>\n",
       "    </tr>\n",
       "    <tr>\n",
       "      <th>2</th>\n",
       "      <td>25</td>\n",
       "      <td>1</td>\n",
       "    </tr>\n",
       "    <tr>\n",
       "      <th>3</th>\n",
       "      <td>26</td>\n",
       "      <td>1</td>\n",
       "    </tr>\n",
       "    <tr>\n",
       "      <th>4</th>\n",
       "      <td>29</td>\n",
       "      <td>1</td>\n",
       "    </tr>\n",
       "    <tr>\n",
       "      <th>5</th>\n",
       "      <td>30</td>\n",
       "      <td>1</td>\n",
       "    </tr>\n",
       "    <tr>\n",
       "      <th>6</th>\n",
       "      <td>30</td>\n",
       "      <td>1</td>\n",
       "    </tr>\n",
       "    <tr>\n",
       "      <th>7</th>\n",
       "      <td>31</td>\n",
       "      <td>1</td>\n",
       "    </tr>\n",
       "    <tr>\n",
       "      <th>8</th>\n",
       "      <td>33</td>\n",
       "      <td>1</td>\n",
       "    </tr>\n",
       "    <tr>\n",
       "      <th>9</th>\n",
       "      <td>20</td>\n",
       "      <td>0</td>\n",
       "    </tr>\n",
       "    <tr>\n",
       "      <th>10</th>\n",
       "      <td>21</td>\n",
       "      <td>0</td>\n",
       "    </tr>\n",
       "    <tr>\n",
       "      <th>11</th>\n",
       "      <td>25</td>\n",
       "      <td>0</td>\n",
       "    </tr>\n",
       "    <tr>\n",
       "      <th>12</th>\n",
       "      <td>26</td>\n",
       "      <td>0</td>\n",
       "    </tr>\n",
       "    <tr>\n",
       "      <th>13</th>\n",
       "      <td>27</td>\n",
       "      <td>0</td>\n",
       "    </tr>\n",
       "    <tr>\n",
       "      <th>14</th>\n",
       "      <td>30</td>\n",
       "      <td>0</td>\n",
       "    </tr>\n",
       "    <tr>\n",
       "      <th>15</th>\n",
       "      <td>31</td>\n",
       "      <td>0</td>\n",
       "    </tr>\n",
       "    <tr>\n",
       "      <th>16</th>\n",
       "      <td>34</td>\n",
       "      <td>0</td>\n",
       "    </tr>\n",
       "    <tr>\n",
       "      <th>17</th>\n",
       "      <td>35</td>\n",
       "      <td>0</td>\n",
       "    </tr>\n",
       "  </tbody>\n",
       "</table>\n",
       "</div>"
      ],
      "text/plain": [
       "    age  gender\n",
       "0    20       1\n",
       "1    23       1\n",
       "2    25       1\n",
       "3    26       1\n",
       "4    29       1\n",
       "5    30       1\n",
       "6    30       1\n",
       "7    31       1\n",
       "8    33       1\n",
       "9    20       0\n",
       "10   21       0\n",
       "11   25       0\n",
       "12   26       0\n",
       "13   27       0\n",
       "14   30       0\n",
       "15   31       0\n",
       "16   34       0\n",
       "17   35       0"
      ]
     },
     "execution_count": 48,
     "metadata": {},
     "output_type": "execute_result"
    }
   ],
   "source": [
    "X = social.drop(columns=['social'])\n",
    "X"
   ]
  },
  {
   "cell_type": "markdown",
   "id": "e0f15365-653e-4717-a787-de49367a8f7d",
   "metadata": {},
   "source": [
    "### Step 3: Create Predict Variable "
   ]
  },
  {
   "cell_type": "code",
   "execution_count": 49,
   "id": "f58cae3c-5bb1-468e-9a1c-0fad7d149ec4",
   "metadata": {},
   "outputs": [
    {
     "data": {
      "text/html": [
       "<div>\n",
       "<style scoped>\n",
       "    .dataframe tbody tr th:only-of-type {\n",
       "        vertical-align: middle;\n",
       "    }\n",
       "\n",
       "    .dataframe tbody tr th {\n",
       "        vertical-align: top;\n",
       "    }\n",
       "\n",
       "    .dataframe thead th {\n",
       "        text-align: right;\n",
       "    }\n",
       "</style>\n",
       "<table border=\"1\" class=\"dataframe\">\n",
       "  <thead>\n",
       "    <tr style=\"text-align: right;\">\n",
       "      <th></th>\n",
       "      <th>social</th>\n",
       "    </tr>\n",
       "  </thead>\n",
       "  <tbody>\n",
       "    <tr>\n",
       "      <th>0</th>\n",
       "      <td>tiktok</td>\n",
       "    </tr>\n",
       "    <tr>\n",
       "      <th>1</th>\n",
       "      <td>tiktok</td>\n",
       "    </tr>\n",
       "    <tr>\n",
       "      <th>2</th>\n",
       "      <td>tiktok</td>\n",
       "    </tr>\n",
       "    <tr>\n",
       "      <th>3</th>\n",
       "      <td>facebook</td>\n",
       "    </tr>\n",
       "    <tr>\n",
       "      <th>4</th>\n",
       "      <td>facebook</td>\n",
       "    </tr>\n",
       "    <tr>\n",
       "      <th>5</th>\n",
       "      <td>facebook</td>\n",
       "    </tr>\n",
       "    <tr>\n",
       "      <th>6</th>\n",
       "      <td>Twitter</td>\n",
       "    </tr>\n",
       "    <tr>\n",
       "      <th>7</th>\n",
       "      <td>Twitter</td>\n",
       "    </tr>\n",
       "    <tr>\n",
       "      <th>8</th>\n",
       "      <td>Twitter</td>\n",
       "    </tr>\n",
       "    <tr>\n",
       "      <th>9</th>\n",
       "      <td>Instagram</td>\n",
       "    </tr>\n",
       "    <tr>\n",
       "      <th>10</th>\n",
       "      <td>Instagram</td>\n",
       "    </tr>\n",
       "    <tr>\n",
       "      <th>11</th>\n",
       "      <td>Instagram</td>\n",
       "    </tr>\n",
       "    <tr>\n",
       "      <th>12</th>\n",
       "      <td>whatsapp</td>\n",
       "    </tr>\n",
       "    <tr>\n",
       "      <th>13</th>\n",
       "      <td>whatsapp</td>\n",
       "    </tr>\n",
       "    <tr>\n",
       "      <th>14</th>\n",
       "      <td>whatsapp</td>\n",
       "    </tr>\n",
       "    <tr>\n",
       "      <th>15</th>\n",
       "      <td>youtube</td>\n",
       "    </tr>\n",
       "    <tr>\n",
       "      <th>16</th>\n",
       "      <td>youtube</td>\n",
       "    </tr>\n",
       "    <tr>\n",
       "      <th>17</th>\n",
       "      <td>youtube</td>\n",
       "    </tr>\n",
       "  </tbody>\n",
       "</table>\n",
       "</div>"
      ],
      "text/plain": [
       "       social\n",
       "0      tiktok\n",
       "1      tiktok\n",
       "2      tiktok\n",
       "3    facebook\n",
       "4    facebook\n",
       "5    facebook\n",
       "6     Twitter\n",
       "7     Twitter\n",
       "8     Twitter\n",
       "9   Instagram\n",
       "10  Instagram\n",
       "11  Instagram\n",
       "12   whatsapp\n",
       "13   whatsapp\n",
       "14   whatsapp\n",
       "15    youtube\n",
       "16    youtube\n",
       "17    youtube"
      ]
     },
     "execution_count": 49,
     "metadata": {},
     "output_type": "execute_result"
    }
   ],
   "source": [
    "y = social[['social']]\n",
    "y"
   ]
  },
  {
   "cell_type": "markdown",
   "id": "b72d3808-fa26-4362-a53e-57ed3d134440",
   "metadata": {},
   "source": [
    "### STEP 4: learnind & Predicting Model"
   ]
  },
  {
   "cell_type": "markdown",
   "id": "b95de3c0-496a-4bc7-bafa-ca07af42161f",
   "metadata": {},
   "source": [
    "We are going to build a model that can predict our dataset to make a decision. There are so many algorithums out there and each algorithum has pros and cons in terms of output and performance. "
   ]
  },
  {
   "cell_type": "markdown",
   "id": "808eec09-8444-4ba8-b739-2c4974902f98",
   "metadata": {},
   "source": [
    "Apart from that we don't need to pay time for coding algorithums. We have pre-build module. The one we need right now to use is the library of Sklearn.\n",
    "\n",
    "- sklearn: Library\n",
    "- tree: Module\n",
    "- DecisionTreeClassifier: Class (This implement decison Tree algorithum)"
   ]
  },
  {
   "cell_type": "code",
   "execution_count": 50,
   "id": "b1692a40-19a5-4184-97f8-57f526b08246",
   "metadata": {},
   "outputs": [],
   "source": [
    "#Import the library that create the predicting model\n",
    "from sklearn.tree import DecisionTreeClassifier #!pip install sklearn / !pip install scikit-learn --upgrade\n",
    "                                                "
   ]
  },
  {
   "cell_type": "code",
   "execution_count": 51,
   "id": "029401a1-9104-403c-9946-ea58de52a81a",
   "metadata": {},
   "outputs": [
    {
     "data": {
      "text/html": [
       "<style>#sk-container-id-3 {color: black;background-color: white;}#sk-container-id-3 pre{padding: 0;}#sk-container-id-3 div.sk-toggleable {background-color: white;}#sk-container-id-3 label.sk-toggleable__label {cursor: pointer;display: block;width: 100%;margin-bottom: 0;padding: 0.3em;box-sizing: border-box;text-align: center;}#sk-container-id-3 label.sk-toggleable__label-arrow:before {content: \"▸\";float: left;margin-right: 0.25em;color: #696969;}#sk-container-id-3 label.sk-toggleable__label-arrow:hover:before {color: black;}#sk-container-id-3 div.sk-estimator:hover label.sk-toggleable__label-arrow:before {color: black;}#sk-container-id-3 div.sk-toggleable__content {max-height: 0;max-width: 0;overflow: hidden;text-align: left;background-color: #f0f8ff;}#sk-container-id-3 div.sk-toggleable__content pre {margin: 0.2em;color: black;border-radius: 0.25em;background-color: #f0f8ff;}#sk-container-id-3 input.sk-toggleable__control:checked~div.sk-toggleable__content {max-height: 200px;max-width: 100%;overflow: auto;}#sk-container-id-3 input.sk-toggleable__control:checked~label.sk-toggleable__label-arrow:before {content: \"▾\";}#sk-container-id-3 div.sk-estimator input.sk-toggleable__control:checked~label.sk-toggleable__label {background-color: #d4ebff;}#sk-container-id-3 div.sk-label input.sk-toggleable__control:checked~label.sk-toggleable__label {background-color: #d4ebff;}#sk-container-id-3 input.sk-hidden--visually {border: 0;clip: rect(1px 1px 1px 1px);clip: rect(1px, 1px, 1px, 1px);height: 1px;margin: -1px;overflow: hidden;padding: 0;position: absolute;width: 1px;}#sk-container-id-3 div.sk-estimator {font-family: monospace;background-color: #f0f8ff;border: 1px dotted black;border-radius: 0.25em;box-sizing: border-box;margin-bottom: 0.5em;}#sk-container-id-3 div.sk-estimator:hover {background-color: #d4ebff;}#sk-container-id-3 div.sk-parallel-item::after {content: \"\";width: 100%;border-bottom: 1px solid gray;flex-grow: 1;}#sk-container-id-3 div.sk-label:hover label.sk-toggleable__label {background-color: #d4ebff;}#sk-container-id-3 div.sk-serial::before {content: \"\";position: absolute;border-left: 1px solid gray;box-sizing: border-box;top: 0;bottom: 0;left: 50%;z-index: 0;}#sk-container-id-3 div.sk-serial {display: flex;flex-direction: column;align-items: center;background-color: white;padding-right: 0.2em;padding-left: 0.2em;position: relative;}#sk-container-id-3 div.sk-item {position: relative;z-index: 1;}#sk-container-id-3 div.sk-parallel {display: flex;align-items: stretch;justify-content: center;background-color: white;position: relative;}#sk-container-id-3 div.sk-item::before, #sk-container-id-3 div.sk-parallel-item::before {content: \"\";position: absolute;border-left: 1px solid gray;box-sizing: border-box;top: 0;bottom: 0;left: 50%;z-index: -1;}#sk-container-id-3 div.sk-parallel-item {display: flex;flex-direction: column;z-index: 1;position: relative;background-color: white;}#sk-container-id-3 div.sk-parallel-item:first-child::after {align-self: flex-end;width: 50%;}#sk-container-id-3 div.sk-parallel-item:last-child::after {align-self: flex-start;width: 50%;}#sk-container-id-3 div.sk-parallel-item:only-child::after {width: 0;}#sk-container-id-3 div.sk-dashed-wrapped {border: 1px dashed gray;margin: 0 0.4em 0.5em 0.4em;box-sizing: border-box;padding-bottom: 0.4em;background-color: white;}#sk-container-id-3 div.sk-label label {font-family: monospace;font-weight: bold;display: inline-block;line-height: 1.2em;}#sk-container-id-3 div.sk-label-container {text-align: center;}#sk-container-id-3 div.sk-container {/* jupyter's `normalize.less` sets `[hidden] { display: none; }` but bootstrap.min.css set `[hidden] { display: none !important; }` so we also need the `!important` here to be able to override the default hidden behavior on the sphinx rendered scikit-learn.org. See: https://github.com/scikit-learn/scikit-learn/issues/21755 */display: inline-block !important;position: relative;}#sk-container-id-3 div.sk-text-repr-fallback {display: none;}</style><div id=\"sk-container-id-3\" class=\"sk-top-container\"><div class=\"sk-text-repr-fallback\"><pre>DecisionTreeClassifier()</pre><b>In a Jupyter environment, please rerun this cell to show the HTML representation or trust the notebook. <br />On GitHub, the HTML representation is unable to render, please try loading this page with nbviewer.org.</b></div><div class=\"sk-container\" hidden><div class=\"sk-item\"><div class=\"sk-estimator sk-toggleable\"><input class=\"sk-toggleable__control sk-hidden--visually\" id=\"sk-estimator-id-3\" type=\"checkbox\" checked><label for=\"sk-estimator-id-3\" class=\"sk-toggleable__label sk-toggleable__label-arrow\">DecisionTreeClassifier</label><div class=\"sk-toggleable__content\"><pre>DecisionTreeClassifier()</pre></div></div></div></div></div>"
      ],
      "text/plain": [
       "DecisionTreeClassifier()"
      ]
     },
     "execution_count": 51,
     "metadata": {},
     "output_type": "execute_result"
    }
   ],
   "source": [
    "model = DecisionTreeClassifier()\n",
    "model.fit(X, y)"
   ]
  },
  {
   "cell_type": "code",
   "execution_count": 52,
   "id": "45a381b7-db14-44bc-8935-0280d93024f8",
   "metadata": {},
   "outputs": [
    {
     "data": {
      "text/html": [
       "<div>\n",
       "<style scoped>\n",
       "    .dataframe tbody tr th:only-of-type {\n",
       "        vertical-align: middle;\n",
       "    }\n",
       "\n",
       "    .dataframe tbody tr th {\n",
       "        vertical-align: top;\n",
       "    }\n",
       "\n",
       "    .dataframe thead th {\n",
       "        text-align: right;\n",
       "    }\n",
       "</style>\n",
       "<table border=\"1\" class=\"dataframe\">\n",
       "  <thead>\n",
       "    <tr style=\"text-align: right;\">\n",
       "      <th></th>\n",
       "      <th>age</th>\n",
       "      <th>gender</th>\n",
       "      <th>social</th>\n",
       "    </tr>\n",
       "  </thead>\n",
       "  <tbody>\n",
       "    <tr>\n",
       "      <th>0</th>\n",
       "      <td>20</td>\n",
       "      <td>1</td>\n",
       "      <td>tiktok</td>\n",
       "    </tr>\n",
       "    <tr>\n",
       "      <th>1</th>\n",
       "      <td>23</td>\n",
       "      <td>1</td>\n",
       "      <td>tiktok</td>\n",
       "    </tr>\n",
       "    <tr>\n",
       "      <th>2</th>\n",
       "      <td>25</td>\n",
       "      <td>1</td>\n",
       "      <td>tiktok</td>\n",
       "    </tr>\n",
       "    <tr>\n",
       "      <th>3</th>\n",
       "      <td>26</td>\n",
       "      <td>1</td>\n",
       "      <td>facebook</td>\n",
       "    </tr>\n",
       "    <tr>\n",
       "      <th>4</th>\n",
       "      <td>29</td>\n",
       "      <td>1</td>\n",
       "      <td>facebook</td>\n",
       "    </tr>\n",
       "  </tbody>\n",
       "</table>\n",
       "</div>"
      ],
      "text/plain": [
       "   age  gender    social\n",
       "0   20       1    tiktok\n",
       "1   23       1    tiktok\n",
       "2   25       1    tiktok\n",
       "3   26       1  facebook\n",
       "4   29       1  facebook"
      ]
     },
     "execution_count": 52,
     "metadata": {},
     "output_type": "execute_result"
    }
   ],
   "source": [
    "social.head(5)"
   ]
  },
  {
   "cell_type": "markdown",
   "id": "11efaf56-0d83-43a7-b335-155f6ffdc1b6",
   "metadata": {},
   "source": [
    "### STEP 5: CREATE AN ALGORITHUM "
   ]
  },
  {
   "cell_type": "code",
   "execution_count": 53,
   "id": "98145c94-2da5-49e1-9393-7bb3870afe1e",
   "metadata": {},
   "outputs": [
    {
     "name": "stderr",
     "output_type": "stream",
     "text": [
      "C:\\Users\\Admin\\AppData\\Local\\Programs\\Python\\Python311\\Lib\\site-packages\\sklearn\\base.py:409: UserWarning: X does not have valid feature names, but DecisionTreeClassifier was fitted with feature names\n",
      "  warnings.warn(\n"
     ]
    },
    {
     "data": {
      "text/plain": [
       "array(['tiktok', 'Instagram'], dtype=object)"
      ]
     },
     "execution_count": 53,
     "metadata": {},
     "output_type": "execute_result"
    }
   ],
   "source": [
    "predictions = model.predict([[21, 1], [22, 0]])\n",
    "predictions"
   ]
  },
  {
   "cell_type": "markdown",
   "id": "ebc73942-6383-4a79-ae6f-91db23993510",
   "metadata": {},
   "source": [
    "That above code predict that **21 years old male** will usually like to use ***tiktok***, while **22 years old female** will prefer using ***instagram***. "
   ]
  },
  {
   "cell_type": "markdown",
   "id": "bcf8d578-0359-46d2-9790-2587efa478fc",
   "metadata": {},
   "source": [
    "### STEP 6: CALCULATE TEH ACCURACY "
   ]
  },
  {
   "cell_type": "markdown",
   "id": "93deaaf5-e9d2-4d1e-8f9a-695199f50fbb",
   "metadata": {},
   "source": [
    "It is no an easy tasks to have 100% correct prediction of your models. But we may get too close prediction. To find the best prediction, we need to split our dataset into train & test data and use approperity some functions. "
   ]
  },
  {
   "cell_type": "code",
   "execution_count": 63,
   "id": "1a0703fd-5fcc-4132-8d1f-20b9d56e68eb",
   "metadata": {},
   "outputs": [
    {
     "data": {
      "text/plain": [
       "0.25"
      ]
     },
     "execution_count": 63,
     "metadata": {},
     "output_type": "execute_result"
    }
   ],
   "source": [
    "#1 Import the library \n",
    "import pandas as pd\n",
    "from sklearn.tree import DecisionTreeClassifier\n",
    "from sklearn.model_selection import train_test_split #This split data into train & test data\n",
    "from sklearn.metrics import accuracy_score\n",
    "import joblib as jb\n",
    "\n",
    "#2 Import data \n",
    "social = pd.read_csv('socialUsage.csv', header=0, sep=';')\n",
    "\n",
    "#3 Create input and predict variables. \n",
    "X = social.drop(columns=['social'])\n",
    "y = social['social']\n",
    "\n",
    "#2. Split the data into two \n",
    "X_train, X_test, y_train, y_test = train_test_split(X, y, test_size=0.2)\n",
    "\n",
    "#3 create a instance of the DecisionTreeclassifier by assigning a model variable\n",
    "model = DecisionTreeClassifier()\n",
    "\n",
    "#4. Train the model\n",
    "model.fit(X_train, y_train)\n",
    "\n",
    "#5. Predict the model\n",
    "predictions = model.predict(X_test)\n",
    "\n",
    "#6. Evaluate model\n",
    "score = accuracy_score(y_test, predictions)\n",
    "score"
   ]
  },
  {
   "cell_type": "markdown",
   "id": "c8033bb2-2525-48aa-b0bf-30fa2ae7b1ad",
   "metadata": {},
   "source": [
    "## Persisting Models"
   ]
  },
  {
   "cell_type": "code",
   "execution_count": 64,
   "id": "2bda02f4-5231-4cbb-b869-840bbc3ac47d",
   "metadata": {},
   "outputs": [],
   "source": [
    "import pandas as pd\n",
    "from sklearn.tree import DecisionTreeClassifier\n",
    "import joblib as jb\n",
    "\n",
    "model = DecisionTreeClassifier()\n",
    "model.fit(X, y)\n",
    "\n",
    "model = jb.dump(model, 'socialUage-recommender.joblib')"
   ]
  },
  {
   "cell_type": "code",
   "execution_count": 56,
   "id": "9f683400-438a-4cfa-877f-7766f70357ef",
   "metadata": {},
   "outputs": [
    {
     "data": {
      "text/plain": [
       "['socialUage-recommender.joblib']"
      ]
     },
     "execution_count": 56,
     "metadata": {},
     "output_type": "execute_result"
    }
   ],
   "source": [
    "model"
   ]
  },
  {
   "cell_type": "markdown",
   "id": "3d0abf2f-a476-4c84-85d9-0e645110a9b7",
   "metadata": {},
   "source": [
    "## Re-use the train model\n",
    "We are not always training a model. So we will uncomments the data."
   ]
  },
  {
   "cell_type": "code",
   "execution_count": 66,
   "id": "6b443a7e-3b87-426f-b07c-c2f86305f54c",
   "metadata": {},
   "outputs": [
    {
     "name": "stderr",
     "output_type": "stream",
     "text": [
      "C:\\Users\\Admin\\AppData\\Local\\Programs\\Python\\Python311\\Lib\\site-packages\\sklearn\\base.py:409: UserWarning: X does not have valid feature names, but DecisionTreeClassifier was fitted with feature names\n",
      "  warnings.warn(\n"
     ]
    },
    {
     "data": {
      "text/plain": [
       "array(['facebook', 'whatsapp'], dtype=object)"
      ]
     },
     "execution_count": 66,
     "metadata": {},
     "output_type": "execute_result"
    }
   ],
   "source": [
    "model = jb.load('socialUage-recommender.joblib') # This is the name file name stored the model\n",
    "predictions = model.predict([[28, 1], [28, 0]])\n",
    "predictions"
   ]
  },
  {
   "cell_type": "markdown",
   "id": "b634909f-93cb-43e4-a80e-8fbb32854e30",
   "metadata": {},
   "source": [
    "## Vizualization Decision Tree "
   ]
  },
  {
   "cell_type": "markdown",
   "id": "327b6b72-5a99-4697-b75a-575abfbe0540",
   "metadata": {},
   "source": [
    "We talked about that Decision Tree is the easiest way of machine learning prediciton.\n",
    "We are going to import our model and demonstrate as visual Decision tree to make prediction. "
   ]
  },
  {
   "cell_type": "code",
   "execution_count": 67,
   "id": "efd74eaa-d087-4102-9ec7-fed2906ac1e6",
   "metadata": {},
   "outputs": [],
   "source": [
    "import pandas as pd\n",
    "from sklearn import tree\n",
    "\n",
    "#2 Import data \n",
    "social = pd.read_csv('socialUsage.csv', header=0, sep=';')\n",
    "\n",
    "#3 Create input and predict variables. \n",
    "X = social.drop(columns=['social'])\n",
    "y = social['social']\n",
    "\n",
    "tree.export_graphviz(model, out_file='socialUage-recommender.dot',\n",
    "                    feature_names=['age', 'gender'],\n",
    "                    class_names=sorted(y.unique()),\n",
    "                    label='all',\n",
    "                    rounded=True,\n",
    "                    filled=True)"
   ]
  },
  {
   "cell_type": "markdown",
   "id": "712da64d-1080-46b9-8272-72c277cc34ce",
   "metadata": {},
   "source": [
    "Now, let us open in VSC code to see the vizualition of our Decison Tree model prediction. To get the outcome we need to install the plugin of dot and select graphic visual. \n",
    "\n",
    "- Open the dot file in VSC \n",
    "- In the upper right cornor, open the three dots and select *Open preview side to the size.*"
   ]
  },
  {
   "attachments": {
    "a709e281-4173-4c0e-abb2-265f87a08fbc.PNG": {
     "image/png": "[encoded data removed]"
    }
   },
   "cell_type": "markdown",
   "id": "fae2684c-dd9f-4fd9-b7cc-73aa54acad85",
   "metadata": {},
   "source": [
    "![social-usage-prediction.PNG](attachment:a709e281-4173-4c0e-abb2-265f87a08fbc.PNG)"
   ]
  },
  {
   "cell_type": "code",
   "execution_count": null,
   "id": "e2a29f57-b74e-4402-8ac4-9e124149803b",
   "metadata": {},
   "outputs": [],
   "source": []
  }
 ],
 "metadata": {
  "kernelspec": {
   "display_name": "Python 3 (ipykernel)",
   "language": "python",
   "name": "python3"
  },
  "language_info": {
   "codemirror_mode": {
    "name": "ipython",
    "version": 3
   },
   "file_extension": ".py",
   "mimetype": "text/x-python",
   "name": "python",
   "nbconvert_exporter": "python",
   "pygments_lexer": "ipython3",
   "version": "3.11.1"
  }
 },
 "nbformat": 4,
 "nbformat_minor": 5
}
